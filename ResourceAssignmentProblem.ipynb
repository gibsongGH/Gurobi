{
  "nbformat": 4,
  "nbformat_minor": 0,
  "metadata": {
    "colab": {
      "provenance": [],
      "authorship_tag": "ABX9TyMtZ6dxUV0IxS7qMX1IBJfE",
      "include_colab_link": true
    },
    "kernelspec": {
      "name": "python3",
      "display_name": "Python 3"
    },
    "language_info": {
      "name": "python"
    }
  },
  "cells": [
    {
      "cell_type": "markdown",
      "metadata": {
        "id": "view-in-github",
        "colab_type": "text"
      },
      "source": [
        "<a href=\"https://colab.research.google.com/github/gibsongGH/Gurobi/blob/main/ResourceAssignmentProblem.ipynb\" target=\"_parent\"><img src=\"https://colab.research.google.com/assets/colab-badge.svg\" alt=\"Open In Colab\"/></a>"
      ]
    },
    {
      "cell_type": "markdown",
      "source": [
        "Gurobi tutorial:  https://www.gurobi.com/resources/ch4-linear-programming-with-python/"
      ],
      "metadata": {
        "id": "eokafAVyv9dG"
      }
    },
    {
      "cell_type": "code",
      "execution_count": 4,
      "metadata": {
        "colab": {
          "base_uri": "https://localhost:8080/"
        },
        "id": "cIhYHZJah-na",
        "outputId": "ec9accb5-09e8-4def-d45c-66f5ecb9242e"
      },
      "outputs": [
        {
          "output_type": "stream",
          "name": "stdout",
          "text": [
            "Requirement already satisfied: gurobipy in /usr/local/lib/python3.11/dist-packages (12.0.2)\n"
          ]
        }
      ],
      "source": [
        "!pip install gurobipy\n",
        "from gurobipy import *"
      ]
    },
    {
      "cell_type": "markdown",
      "source": [
        "### Dataset and Gurobi Model"
      ],
      "metadata": {
        "id": "29fOY6dCuJw0"
      }
    },
    {
      "cell_type": "code",
      "source": [
        "# resources and jobs sets\n",
        "R = ['Carlos', 'Joe', 'Monika']\n",
        "J = ['Tester', 'JavaDeveloper', 'Architect']"
      ],
      "metadata": {
        "id": "Q_yN5bXKjjIr"
      },
      "execution_count": 5,
      "outputs": []
    },
    {
      "cell_type": "code",
      "source": [
        "# matching score data\n",
        "combinations, ms = multidict({\n",
        "    ('Carlos', 'Tester'): 53,\n",
        "    ('Carlos', 'JavaDeveloper'): 27,\n",
        "    ('Carlos', 'Architect'): 13,\n",
        "    ('Joe', 'Tester'): 80,\n",
        "    ('Joe', 'JavaDeveloper'): 47,\n",
        "    ('Joe', 'Architect'): 67,\n",
        "    ('Monika', 'Tester'): 53,\n",
        "    ('Monika', 'JavaDeveloper'): 73,\n",
        "    ('Monika', 'Architect'): 47\n",
        "})"
      ],
      "metadata": {
        "id": "_7efMZIojob5"
      },
      "execution_count": 6,
      "outputs": []
    },
    {
      "cell_type": "code",
      "source": [
        "# Declare and initialize model\n",
        "m = Model('RAP')"
      ],
      "metadata": {
        "colab": {
          "base_uri": "https://localhost:8080/"
        },
        "id": "9VWTmYLGklLc",
        "outputId": "88117861-a912-41aa-eddf-00d57c029765"
      },
      "execution_count": 7,
      "outputs": [
        {
          "output_type": "stream",
          "name": "stdout",
          "text": [
            "Restricted license - for non-production use only - expires 2026-11-23\n"
          ]
        }
      ]
    },
    {
      "cell_type": "markdown",
      "source": [
        "### Decision Variables and Constraints"
      ],
      "metadata": {
        "id": "XJ0lgLmWug25"
      }
    },
    {
      "cell_type": "code",
      "source": [
        "# Create decision variables for the RAP model\n",
        "# \"tupledict\" object x contains the newly created variables\n",
        "x = m.addVars(combinations, name='assign')"
      ],
      "metadata": {
        "id": "fQ-iemYgkvZT"
      },
      "execution_count": 8,
      "outputs": []
    },
    {
      "cell_type": "code",
      "source": [
        "# Create jobs constraints\n",
        "# (Tester = 1): x1,1 + x2,1 + x3,1 = 1\n",
        "# (Java Developer = 2): x1,2 + x2,2 + x3,2 = 1\n",
        "# (Architect = 3): x1,3 + x2,3 + x3,3 = 1\n",
        "# for each index in list of Jobs j, sum resources that can be assigned to job j\n",
        "jobs = m.addConstrs((x.sum('*',j) == 1 for j in J), name='job')"
      ],
      "metadata": {
        "id": "aN_guxRwlhv5"
      },
      "execution_count": 9,
      "outputs": []
    },
    {
      "cell_type": "code",
      "source": [
        "# Create resources constraints\n",
        "# (Carlos = 1): x1,1 + x2,1 + x3,1 <= 1\n",
        "# (Joe = 2): x1,2 + x2,2 + x3,2 <= 1\n",
        "# (Monika = 3): x1,3 + x2,3 + x3,3 <= 1\n",
        "# for each index in list of Jobs j, sum resources that can be assigned to job j\n",
        "resources = m.addConstrs((x.sum(r,'*') <= 1 for r in R), name='resource')"
      ],
      "metadata": {
        "id": "Vey2lT8anglM"
      },
      "execution_count": 10,
      "outputs": []
    },
    {
      "cell_type": "markdown",
      "source": [
        "### Objective function\n",
        "\n",
        "\n",
        "  Maximize the total matching score of the assignments that satisfy the job and resource constraints.\n",
        "\n",
        "\n",
        "  (53x1,1 + 80x2,1 + 53x3,1) + (27x1,2 + 47x2,2 + 73x3,2) + (13x1,3 + 67x2,3 + 74x3,3)"
      ],
      "metadata": {
        "id": "fkp4eySKoqcy"
      }
    },
    {
      "cell_type": "code",
      "source": [
        "# The objective is to maximize total matching score of the assignments\n",
        "m.setObjective(x.prod(ms), GRB.MAXIMIZE)"
      ],
      "metadata": {
        "id": "B1oELu2uoYL5"
      },
      "execution_count": 11,
      "outputs": []
    },
    {
      "cell_type": "code",
      "source": [
        "# Save model for inspection\n",
        "# The write function prints the model formulation\n",
        "m.write('RAP.lp')"
      ],
      "metadata": {
        "id": "nfAGu-daro5l"
      },
      "execution_count": 12,
      "outputs": []
    },
    {
      "cell_type": "markdown",
      "source": [
        "### Solving the RAP problem"
      ],
      "metadata": {
        "id": "8rWf78-Lsgaq"
      }
    },
    {
      "cell_type": "code",
      "source": [
        "# Run optimization engine\n",
        "# optimize function invokes the optimize method on the model object \"m\"\n",
        "m.optimize()"
      ],
      "metadata": {
        "colab": {
          "base_uri": "https://localhost:8080/"
        },
        "id": "DIj_QWgvrzUK",
        "outputId": "f7119a38-b783-436c-bde6-76c087457352"
      },
      "execution_count": 13,
      "outputs": [
        {
          "output_type": "stream",
          "name": "stdout",
          "text": [
            "Gurobi Optimizer version 12.0.2 build v12.0.2rc0 (linux64 - \"Ubuntu 22.04.4 LTS\")\n",
            "\n",
            "CPU model: Intel(R) Xeon(R) CPU @ 2.20GHz, instruction set [SSE2|AVX|AVX2]\n",
            "Thread count: 1 physical cores, 2 logical processors, using up to 2 threads\n",
            "\n",
            "Optimize a model with 6 rows, 9 columns and 18 nonzeros\n",
            "Model fingerprint: 0xb343b6eb\n",
            "Coefficient statistics:\n",
            "  Matrix range     [1e+00, 1e+00]\n",
            "  Objective range  [1e+01, 8e+01]\n",
            "  Bounds range     [0e+00, 0e+00]\n",
            "  RHS range        [1e+00, 1e+00]\n",
            "Presolve time: 0.01s\n",
            "Presolved: 6 rows, 9 columns, 18 nonzeros\n",
            "\n",
            "Iteration    Objective       Primal Inf.    Dual Inf.      Time\n",
            "       0    4.6000000e+32   1.800000e+31   4.600000e+02      0s\n",
            "       5    1.9300000e+02   0.000000e+00   0.000000e+00      0s\n",
            "\n",
            "Solved in 5 iterations and 0.01 seconds (0.00 work units)\n",
            "Optimal objective  1.930000000e+02\n"
          ]
        }
      ]
    },
    {
      "cell_type": "code",
      "source": [
        "# Display optimal values of decision variables\n",
        "def print_solution(model):\n",
        "    for var in model.getVars():\n",
        "        if abs(var.x) > 1e-6:\n",
        "            print(\"{0}: {1}\".format(var.varName, var.x))\n",
        "    print('Total matching score: {0}'.format(model.objVal))\n",
        "    return None\n",
        "\n",
        "# display optimal values of decision variables\n",
        "print_solution(m)"
      ],
      "metadata": {
        "colab": {
          "base_uri": "https://localhost:8080/"
        },
        "id": "VAUwfErLstdL",
        "outputId": "3b3c0517-2197-4c75-9ab9-4c4ac99355a5"
      },
      "execution_count": 18,
      "outputs": [
        {
          "output_type": "stream",
          "name": "stdout",
          "text": [
            "assign[Joe,Tester]: 1.0\n",
            "assign[Monika,JavaDeveloper]: 1.0\n",
            "assign[Ada,Architect]: 1.0\n",
            "Total matching score: 253.0\n"
          ]
        }
      ]
    },
    {
      "cell_type": "markdown",
      "source": [
        "### New resource"
      ],
      "metadata": {
        "id": "8fGy2Imls5lh"
      }
    },
    {
      "cell_type": "code",
      "source": [
        "# Consider Ada is now available and has mastered all three roles\n",
        "new_scores = {('Ada', 'Tester'):100, ('Ada', 'JavaDeveloper'):100, ('Ada', 'Architect'):100}\n",
        "\n",
        "# Add Ada to the job constraints\n",
        "for key, val in new_scores.items():\n",
        "    r, j = key\n",
        "    x[key] = m.addVar(obj=val,\n",
        "                      name='assign[{0},{1}]'.format(r,j),\n",
        "                      column=Column([1], [m.getConstrByName('job[{0}]'.format(j))]))\n",
        "    m.addConstr(x.sum('Ada', '*') <= 1, name='resource[Ada]')\n"
      ],
      "metadata": {
        "id": "tt5XBwObtqQB"
      },
      "execution_count": 16,
      "outputs": []
    },
    {
      "cell_type": "code",
      "source": [
        "# reoptimize\n",
        "m.optimize()\n",
        "# display optimal values of decision variables\n",
        "print_solution(m)"
      ],
      "metadata": {
        "colab": {
          "base_uri": "https://localhost:8080/"
        },
        "id": "I-D3BBUzwdri",
        "outputId": "a127c46f-e567-4531-ca71-5bda7da4ffae"
      },
      "execution_count": 19,
      "outputs": [
        {
          "output_type": "stream",
          "name": "stdout",
          "text": [
            "Gurobi Optimizer version 12.0.2 build v12.0.2rc0 (linux64 - \"Ubuntu 22.04.4 LTS\")\n",
            "\n",
            "CPU model: Intel(R) Xeon(R) CPU @ 2.20GHz, instruction set [SSE2|AVX|AVX2]\n",
            "Thread count: 1 physical cores, 2 logical processors, using up to 2 threads\n",
            "\n",
            "Optimize a model with 9 rows, 12 columns and 27 nonzeros\n",
            "Coefficient statistics:\n",
            "  Matrix range     [1e+00, 1e+00]\n",
            "  Objective range  [1e+01, 1e+02]\n",
            "  Bounds range     [0e+00, 0e+00]\n",
            "  RHS range        [1e+00, 1e+00]\n",
            "\n",
            "Solved in 0 iterations and 0.01 seconds (0.00 work units)\n",
            "Optimal objective  2.530000000e+02\n",
            "assign[Joe,Tester]: 1.0\n",
            "assign[Monika,JavaDeveloper]: 1.0\n",
            "assign[Ada,Architect]: 1.0\n",
            "Total matching score: 253.0\n"
          ]
        }
      ]
    }
  ]
}