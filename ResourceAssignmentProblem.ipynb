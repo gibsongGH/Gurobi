{
  "nbformat": 4,
  "nbformat_minor": 0,
  "metadata": {
    "colab": {
      "provenance": [],
      "authorship_tag": "ABX9TyOY2xI6m6222RQVfBxJRyGT",
      "include_colab_link": true
    },
    "kernelspec": {
      "name": "python3",
      "display_name": "Python 3"
    },
    "language_info": {
      "name": "python"
    }
  },
  "cells": [
    {
      "cell_type": "markdown",
      "metadata": {
        "id": "view-in-github",
        "colab_type": "text"
      },
      "source": [
        "<a href=\"https://colab.research.google.com/github/gibsongGH/Gurobi/blob/main/ResourceAssignmentProblem.ipynb\" target=\"_parent\"><img src=\"https://colab.research.google.com/assets/colab-badge.svg\" alt=\"Open In Colab\"/></a>"
      ]
    },
    {
      "cell_type": "markdown",
      "source": [
        "Gurobi tutorial:  https://www.gurobi.com/resources/ch4-linear-programming-with-python/"
      ],
      "metadata": {
        "id": "eokafAVyv9dG"
      }
    },
    {
      "cell_type": "code",
      "execution_count": 2,
      "metadata": {
        "colab": {
          "base_uri": "https://localhost:8080/"
        },
        "id": "cIhYHZJah-na",
        "outputId": "09b2aa6f-1401-400f-d7b8-9b1e6d224e00"
      },
      "outputs": [
        {
          "output_type": "stream",
          "name": "stdout",
          "text": [
            "Collecting gurobipy\n",
            "  Downloading gurobipy-12.0.2-cp311-cp311-manylinux2014_x86_64.manylinux_2_17_x86_64.whl.metadata (16 kB)\n",
            "Downloading gurobipy-12.0.2-cp311-cp311-manylinux2014_x86_64.manylinux_2_17_x86_64.whl (14.5 MB)\n",
            "\u001b[2K   \u001b[90m━━━━━━━━━━━━━━━━━━━━━━━━━━━━━━━━━━━━━━━━\u001b[0m \u001b[32m14.5/14.5 MB\u001b[0m \u001b[31m74.8 MB/s\u001b[0m eta \u001b[36m0:00:00\u001b[0m\n",
            "\u001b[?25hInstalling collected packages: gurobipy\n",
            "Successfully installed gurobipy-12.0.2\n"
          ]
        }
      ],
      "source": [
        "!pip install gurobipy\n",
        "from gurobipy import *"
      ]
    },
    {
      "cell_type": "markdown",
      "source": [
        "### Dataset and Gurobi Model"
      ],
      "metadata": {
        "id": "29fOY6dCuJw0"
      }
    },
    {
      "cell_type": "code",
      "source": [
        "# resources and jobs sets\n",
        "R = ['Carlos', 'Joe', 'Monika']\n",
        "J = ['Tester', 'JavaDeveloper', 'Architect']"
      ],
      "metadata": {
        "id": "Q_yN5bXKjjIr"
      },
      "execution_count": 4,
      "outputs": []
    },
    {
      "cell_type": "code",
      "source": [
        "# matching score data\n",
        "combinations, ms = multidict({\n",
        "    ('Carlos', 'Tester'): 53,\n",
        "    ('Carlos', 'JavaDeveloper'): 27,\n",
        "    ('Carlos', 'Architect'): 13,\n",
        "    ('Joe', 'Tester'): 80,\n",
        "    ('Joe', 'JavaDeveloper'): 47,\n",
        "    ('Joe', 'Architect'): 67,\n",
        "    ('Monika', 'Tester'): 53,\n",
        "    ('Monika', 'JavaDeveloper'): 73,\n",
        "    ('Monika', 'Architect'): 47\n",
        "})"
      ],
      "metadata": {
        "id": "_7efMZIojob5"
      },
      "execution_count": 5,
      "outputs": []
    },
    {
      "cell_type": "code",
      "source": [
        "# Declare and initialize model\n",
        "m = Model('RAP')"
      ],
      "metadata": {
        "colab": {
          "base_uri": "https://localhost:8080/"
        },
        "id": "9VWTmYLGklLc",
        "outputId": "6dd75efb-812c-4605-e461-06d2106a5276"
      },
      "execution_count": 6,
      "outputs": [
        {
          "output_type": "stream",
          "name": "stdout",
          "text": [
            "Restricted license - for non-production use only - expires 2026-11-23\n"
          ]
        }
      ]
    },
    {
      "cell_type": "markdown",
      "source": [
        "### Decision Variables and Constraints"
      ],
      "metadata": {
        "id": "XJ0lgLmWug25"
      }
    },
    {
      "cell_type": "code",
      "source": [
        "# Create decision variables for the RAP model\n",
        "# \"tupledict\" object x contains the newly created variables\n",
        "x = m.addVars(combinations, name='assign')"
      ],
      "metadata": {
        "id": "fQ-iemYgkvZT"
      },
      "execution_count": 7,
      "outputs": []
    },
    {
      "cell_type": "code",
      "source": [
        "# Create jobs constraints\n",
        "# (Tester = 1): x1,1 + x2,1 + x3,1 = 1\n",
        "# (Java Developer = 2): x1,2 + x2,2 + x3,2 = 1\n",
        "# (Architect = 3): x1,3 + x2,3 + x3,3 = 1\n",
        "# for each index in list of Jobs j, sum resources that can be assigned to job j\n",
        "jobs = m.addConstrs((x.sum('*',j) == 1 for j in J), name='job')"
      ],
      "metadata": {
        "id": "aN_guxRwlhv5"
      },
      "execution_count": 8,
      "outputs": []
    },
    {
      "cell_type": "code",
      "source": [
        "# Create resources constraints\n",
        "# (Carlos = 1): x1,1 + x2,1 + x3,1 <= 1\n",
        "# (Joe = 2): x1,2 + x2,2 + x3,2 <= 1\n",
        "# (Monika = 3): x1,3 + x2,3 + x3,3 <= 1\n",
        "# for each index in list of Jobs j, sum resources that can be assigned to job j\n",
        "resources = m.addConstrs((x.sum(r,'*') <= 1 for r in R), name='resource')"
      ],
      "metadata": {
        "id": "Vey2lT8anglM"
      },
      "execution_count": 9,
      "outputs": []
    },
    {
      "cell_type": "markdown",
      "source": [
        "### Objective function\n",
        "\n",
        "\n",
        "  Maximize the total matching score of the assignments that satisfy the job and resource constraints.\n",
        "\n",
        "\n",
        "  (53x1,1 + 80x2,1 + 53x3,1) + (27x1,2 + 47x2,2 + 73x3,2) + (13x1,3 + 67x2,3 + 74x3,3)"
      ],
      "metadata": {
        "id": "fkp4eySKoqcy"
      }
    },
    {
      "cell_type": "code",
      "source": [
        "# The objective is to maximize total matching score of the assignments\n",
        "m.setObjective(x.prod(ms), GRB.MAXIMIZE)"
      ],
      "metadata": {
        "id": "B1oELu2uoYL5"
      },
      "execution_count": 10,
      "outputs": []
    },
    {
      "cell_type": "code",
      "source": [
        "# Save model for inspection\n",
        "# The write function prints the model formulation\n",
        "m.write('RAP.lp')"
      ],
      "metadata": {
        "id": "nfAGu-daro5l"
      },
      "execution_count": 11,
      "outputs": []
    },
    {
      "cell_type": "markdown",
      "source": [
        "### Solving the RAP problem"
      ],
      "metadata": {
        "id": "8rWf78-Lsgaq"
      }
    },
    {
      "cell_type": "code",
      "source": [
        "# Run optimization engine\n",
        "# optimize function invokes the optimize method on the model object \"m\"\n",
        "m.optimize()"
      ],
      "metadata": {
        "colab": {
          "base_uri": "https://localhost:8080/"
        },
        "id": "DIj_QWgvrzUK",
        "outputId": "b0a117e5-7b09-405a-ac40-fc7acb5ac632"
      },
      "execution_count": 12,
      "outputs": [
        {
          "output_type": "stream",
          "name": "stdout",
          "text": [
            "Gurobi Optimizer version 12.0.2 build v12.0.2rc0 (linux64 - \"Ubuntu 22.04.4 LTS\")\n",
            "\n",
            "CPU model: Intel(R) Xeon(R) CPU @ 2.20GHz, instruction set [SSE2|AVX|AVX2]\n",
            "Thread count: 1 physical cores, 2 logical processors, using up to 2 threads\n",
            "\n",
            "Optimize a model with 6 rows, 9 columns and 18 nonzeros\n",
            "Model fingerprint: 0xb343b6eb\n",
            "Coefficient statistics:\n",
            "  Matrix range     [1e+00, 1e+00]\n",
            "  Objective range  [1e+01, 8e+01]\n",
            "  Bounds range     [0e+00, 0e+00]\n",
            "  RHS range        [1e+00, 1e+00]\n",
            "Presolve time: 0.01s\n",
            "Presolved: 6 rows, 9 columns, 18 nonzeros\n",
            "\n",
            "Iteration    Objective       Primal Inf.    Dual Inf.      Time\n",
            "       0    4.6000000e+32   1.800000e+31   4.600000e+02      0s\n",
            "       5    1.9300000e+02   0.000000e+00   0.000000e+00      0s\n",
            "\n",
            "Solved in 5 iterations and 0.02 seconds (0.00 work units)\n",
            "Optimal objective  1.930000000e+02\n"
          ]
        }
      ]
    },
    {
      "cell_type": "code",
      "source": [
        "# Display optimal values of decision variables\n",
        "for v in m.getVars():\n",
        "    if (abs(v.x) > 1e-6):\n",
        "        print(v.varName, v.x)\n",
        "\n",
        "# Display optimal total matching score\n",
        "print('Total matching score: ', m.objVal)"
      ],
      "metadata": {
        "colab": {
          "base_uri": "https://localhost:8080/"
        },
        "id": "VAUwfErLstdL",
        "outputId": "5e9768b3-2c1f-4935-8d6e-615ebda814c0"
      },
      "execution_count": 13,
      "outputs": [
        {
          "output_type": "stream",
          "name": "stdout",
          "text": [
            "assign[Carlos,Tester] 1.0\n",
            "assign[Joe,Architect] 1.0\n",
            "assign[Monika,JavaDeveloper] 1.0\n",
            "Total matching score:  193.0\n"
          ]
        }
      ]
    },
    {
      "cell_type": "code",
      "source": [],
      "metadata": {
        "id": "tt5XBwObtqQB"
      },
      "execution_count": null,
      "outputs": []
    }
  ]
}